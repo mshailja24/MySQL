{
 "cells": [
  {
   "cell_type": "code",
   "execution_count": 2,
   "id": "1d7ea7d9",
   "metadata": {},
   "outputs": [],
   "source": [
    "import sqlite3"
   ]
  },
  {
   "cell_type": "code",
   "execution_count": 3,
   "id": "b795c121",
   "metadata": {},
   "outputs": [],
   "source": [
    "db=sqlite3.connect(\"Student_databse.db\")"
   ]
  },
  {
   "cell_type": "code",
   "execution_count": 4,
   "id": "f861904a",
   "metadata": {},
   "outputs": [],
   "source": [
    "cur=db.cursor()"
   ]
  },
  {
   "cell_type": "code",
   "execution_count": 4,
   "id": "f5341225",
   "metadata": {},
   "outputs": [
    {
     "data": {
      "text/plain": [
       "<sqlite3.Cursor at 0x209fd4f3ce0>"
      ]
     },
     "execution_count": 4,
     "metadata": {},
     "output_type": "execute_result"
    }
   ],
   "source": [
    "cur.execute(\"create table students(id int primary key, name text,mrks int)\")"
   ]
  },
  {
   "cell_type": "code",
   "execution_count": 5,
   "id": "7ab2ba42",
   "metadata": {},
   "outputs": [
    {
     "data": {
      "text/plain": [
       "<sqlite3.Cursor at 0x209fd4f3ce0>"
      ]
     },
     "execution_count": 5,
     "metadata": {},
     "output_type": "execute_result"
    }
   ],
   "source": [
    "cur.execute(\"Insert into students(id,name,mrks) values(1,'Ram',59)\")"
   ]
  },
  {
   "cell_type": "code",
   "execution_count": 6,
   "id": "2fb56020",
   "metadata": {},
   "outputs": [],
   "source": [
    "db.commit()"
   ]
  },
  {
   "cell_type": "code",
   "execution_count": 7,
   "id": "a7eeda3b",
   "metadata": {},
   "outputs": [
    {
     "name": "stdout",
     "output_type": "stream",
     "text": [
      "1 Record(s) inserted\n"
     ]
    }
   ],
   "source": [
    "print(cur.rowcount,'Record(s) inserted')"
   ]
  },
  {
   "cell_type": "code",
   "execution_count": 8,
   "id": "cd8d56ab",
   "metadata": {},
   "outputs": [],
   "source": [
    "cur.execute(\"Insert into students(id,name,mrks) values(2,'Shyam',49)\")\n",
    "db.commit()"
   ]
  },
  {
   "cell_type": "code",
   "execution_count": 9,
   "id": "6c835675",
   "metadata": {},
   "outputs": [
    {
     "name": "stdout",
     "output_type": "stream",
     "text": [
      "1 Record(s) inserted\n"
     ]
    }
   ],
   "source": [
    "print(cur.rowcount,'Record(s) inserted')"
   ]
  },
  {
   "cell_type": "code",
   "execution_count": 10,
   "id": "c44fee8b",
   "metadata": {},
   "outputs": [
    {
     "name": "stdout",
     "output_type": "stream",
     "text": [
      "(1, 'Ram', 59)\n",
      "(2, 'Shyam', 49)\n"
     ]
    }
   ],
   "source": [
    "results=cur.execute(\"select * from students\")\n",
    "for row in results:\n",
    "    print(row)"
   ]
  },
  {
   "cell_type": "code",
   "execution_count": 12,
   "id": "a0f4515d",
   "metadata": {},
   "outputs": [],
   "source": [
    "cur.execute(\"Insert into students(id,name,mrks) values(3,'Rohit',69)\")\n",
    "db.commit()"
   ]
  },
  {
   "cell_type": "code",
   "execution_count": 13,
   "id": "5cba99fa",
   "metadata": {},
   "outputs": [
    {
     "name": "stdout",
     "output_type": "stream",
     "text": [
      "(1, 'Ram', 59)\n",
      "(2, 'Shyam', 49)\n",
      "(3, 'Rohit', 69)\n"
     ]
    }
   ],
   "source": [
    "results=cur.execute(\"select * from students\")\n",
    "for row in results:\n",
    "    print(row)"
   ]
  },
  {
   "cell_type": "code",
   "execution_count": 14,
   "id": "3bc5d928",
   "metadata": {},
   "outputs": [
    {
     "name": "stdout",
     "output_type": "stream",
     "text": [
      "2\n"
     ]
    }
   ],
   "source": [
    "cur.execute(\"insert into students values(4,'Jyoti',56),(5,'Yash',54)\")\n",
    "db.commit()\n",
    "print(cur.rowcount) "
   ]
  },
  {
   "cell_type": "code",
   "execution_count": 15,
   "id": "00e68a88",
   "metadata": {},
   "outputs": [
    {
     "name": "stdout",
     "output_type": "stream",
     "text": [
      "(1, 'Ram', 59)\n",
      "(2, 'Shyam', 49)\n",
      "(3, 'Rohit', 69)\n",
      "(4, 'Jyoti', 56)\n",
      "(5, 'Yash', 54)\n"
     ]
    }
   ],
   "source": [
    "results=cur.execute('select * from students')\n",
    "for i in results:\n",
    "    print(i)"
   ]
  },
  {
   "cell_type": "code",
   "execution_count": 4,
   "id": "295babc4",
   "metadata": {},
   "outputs": [],
   "source": [
    "db1=sqlite3.connect(\"c:/mysqlite_databse2/studentdb.db\")"
   ]
  },
  {
   "cell_type": "code",
   "execution_count": 5,
   "id": "adbf5b68",
   "metadata": {},
   "outputs": [],
   "source": [
    "cur1=db1.cursor()"
   ]
  },
  {
   "cell_type": "code",
   "execution_count": 6,
   "id": "2ed9bda2",
   "metadata": {},
   "outputs": [
    {
     "data": {
      "text/plain": [
       "<sqlite3.Cursor at 0x173a7ef4dc0>"
      ]
     },
     "execution_count": 6,
     "metadata": {},
     "output_type": "execute_result"
    }
   ],
   "source": [
    "cur1.execute(\"create table employees (id int,name text,age int)\")"
   ]
  },
  {
   "cell_type": "code",
   "execution_count": 8,
   "id": "4da7478e",
   "metadata": {},
   "outputs": [
    {
     "ename": "OperationalError",
     "evalue": "no such table: employees",
     "output_type": "error",
     "traceback": [
      "\u001b[1;31m---------------------------------------------------------------------------\u001b[0m",
      "\u001b[1;31mOperationalError\u001b[0m                          Traceback (most recent call last)",
      "\u001b[1;32m~\\AppData\\Local\\Temp/ipykernel_26640/490245935.py\u001b[0m in \u001b[0;36m<module>\u001b[1;34m\u001b[0m\n\u001b[1;32m----> 1\u001b[1;33m \u001b[0mcur\u001b[0m\u001b[1;33m.\u001b[0m\u001b[0mexecute\u001b[0m\u001b[1;33m(\u001b[0m\u001b[1;34m\"insert into employees Values(1,'Shalu',32)\"\u001b[0m\u001b[1;33m)\u001b[0m\u001b[1;33m\u001b[0m\u001b[1;33m\u001b[0m\u001b[0m\n\u001b[0m\u001b[0;32m      2\u001b[0m \u001b[0mdb1\u001b[0m\u001b[1;33m.\u001b[0m\u001b[0mcommit\u001b[0m\u001b[1;33m(\u001b[0m\u001b[1;33m)\u001b[0m\u001b[1;33m\u001b[0m\u001b[1;33m\u001b[0m\u001b[0m\n",
      "\u001b[1;31mOperationalError\u001b[0m: no such table: employees"
     ]
    }
   ],
   "source": [
    "cur.execute(\"insert into employees Values(1,'Shalu',32)\")\n",
    "db1.commit()"
   ]
  },
  {
   "cell_type": "markdown",
   "id": "e0ee18ba",
   "metadata": {},
   "source": [
    "this is the way to add table into known location according to us wwe have to make a folder in the selected location and then creat any databse as required."
   ]
  },
  {
   "cell_type": "markdown",
   "id": "0ff20e05",
   "metadata": {},
   "source": [
    "## Accessing data stored in SQLite using Python."
   ]
  },
  {
   "cell_type": "code",
   "execution_count": 9,
   "id": "18fd2595",
   "metadata": {},
   "outputs": [
    {
     "name": "stdout",
     "output_type": "stream",
     "text": [
      "(1, 'Ram', 59)\n",
      "(2, 'Shyam', 49)\n",
      "(3, 'Rohit', 69)\n",
      "(4, 'Jyoti', 56)\n",
      "(5, 'Yash', 54)\n"
     ]
    }
   ],
   "source": [
    "results=cur.execute(\"select * from students\")\n",
    "for i in results:\n",
    "    print(i)"
   ]
  },
  {
   "cell_type": "code",
   "execution_count": 11,
   "id": "e6249f22",
   "metadata": {},
   "outputs": [
    {
     "name": "stdout",
     "output_type": "stream",
     "text": [
      "(1, 'Ram')\n",
      "(2, 'Shyam')\n",
      "(3, 'Rohit')\n",
      "(4, 'Jyoti')\n",
      "(5, 'Yash')\n"
     ]
    }
   ],
   "source": [
    "results=cur.execute(\"select id, name from students\")\n",
    "for i in results:\n",
    "    print(i)"
   ]
  },
  {
   "cell_type": "code",
   "execution_count": 12,
   "id": "c7d2ae25",
   "metadata": {},
   "outputs": [
    {
     "name": "stdout",
     "output_type": "stream",
     "text": [
      "(5, 'Yash', 54)\n"
     ]
    }
   ],
   "source": [
    "results=cur.execute(\"select * from students where id=5\")\n",
    "for i in results:\n",
    "    print(i)"
   ]
  },
  {
   "cell_type": "code",
   "execution_count": 13,
   "id": "390ce39f",
   "metadata": {},
   "outputs": [
    {
     "name": "stdout",
     "output_type": "stream",
     "text": [
      "(1, 'Ram', 59)\n",
      "(2, 'Shyam', 49)\n",
      "(3, 'Rohit', 69)\n"
     ]
    }
   ],
   "source": [
    "results=cur.execute(\"select * from students limit 3\")\n",
    "for i in results:\n",
    "    print(i)"
   ]
  },
  {
   "cell_type": "code",
   "execution_count": 14,
   "id": "3d703617",
   "metadata": {},
   "outputs": [
    {
     "name": "stdout",
     "output_type": "stream",
     "text": [
      "('Jyoti',)\n"
     ]
    }
   ],
   "source": [
    "results=cur.execute(\"select name from students where id=4\")\n",
    "for i in results:\n",
    "    print(i)"
   ]
  },
  {
   "cell_type": "code",
   "execution_count": 16,
   "id": "d7da9950",
   "metadata": {},
   "outputs": [
    {
     "name": "stdout",
     "output_type": "stream",
     "text": [
      "(3, 'Rohit', 69)\n"
     ]
    }
   ],
   "source": [
    "results=cur.execute(\"select * from students where mrks>60 and mrks<90\")\n",
    "for i in results:\n",
    "    print(i)"
   ]
  },
  {
   "cell_type": "code",
   "execution_count": 17,
   "id": "bc2dbd80",
   "metadata": {},
   "outputs": [
    {
     "name": "stdout",
     "output_type": "stream",
     "text": [
      "(3, 'Rohit', 69)\n"
     ]
    }
   ],
   "source": [
    "results=cur.execute(\"select * from students where mrks between 60 and 90 \")\n",
    "for i in results:\n",
    "    print(i)"
   ]
  },
  {
   "cell_type": "code",
   "execution_count": 18,
   "id": "50f11ddc",
   "metadata": {},
   "outputs": [
    {
     "name": "stdout",
     "output_type": "stream",
     "text": [
      "(4, 'Jyoti', 56)\n",
      "(1, 'Ram', 59)\n",
      "(3, 'Rohit', 69)\n",
      "(2, 'Shyam', 49)\n",
      "(5, 'Yash', 54)\n"
     ]
    }
   ],
   "source": [
    "results=cur.execute(\"select * from students order by name asc\")\n",
    "for i in results:\n",
    "    print(i)"
   ]
  },
  {
   "cell_type": "code",
   "execution_count": 19,
   "id": "8a3c55ec",
   "metadata": {},
   "outputs": [
    {
     "name": "stdout",
     "output_type": "stream",
     "text": [
      "(5, 'Yash', 54)\n",
      "(2, 'Shyam', 49)\n",
      "(3, 'Rohit', 69)\n",
      "(1, 'Ram', 59)\n",
      "(4, 'Jyoti', 56)\n"
     ]
    }
   ],
   "source": [
    "results=cur.execute(\"select * from students order by name desc\")\n",
    "for i in results:\n",
    "    print(i)"
   ]
  },
  {
   "cell_type": "code",
   "execution_count": 20,
   "id": "c351c2c9",
   "metadata": {},
   "outputs": [
    {
     "name": "stdout",
     "output_type": "stream",
     "text": [
      "(49,)\n"
     ]
    }
   ],
   "source": [
    "results=cur.execute(\"select min(mrks) from students\")\n",
    "for i in results:\n",
    "    print(i)"
   ]
  },
  {
   "cell_type": "code",
   "execution_count": 21,
   "id": "1759d69f",
   "metadata": {},
   "outputs": [
    {
     "name": "stdout",
     "output_type": "stream",
     "text": [
      "(287,)\n"
     ]
    }
   ],
   "source": [
    "results=cur.execute(\"select sum(mrks) from students\")\n",
    "for i in results:\n",
    "    print(i)"
   ]
  },
  {
   "cell_type": "code",
   "execution_count": 24,
   "id": "4c711827",
   "metadata": {},
   "outputs": [
    {
     "name": "stdout",
     "output_type": "stream",
     "text": [
      "(1, 'Ram', 59)\n",
      "(3, 'Rohit', 69)\n"
     ]
    }
   ],
   "source": [
    "results=cur.execute(\"select * from students where name like 'R%'\")\n",
    "for i in results:\n",
    "    print(i)"
   ]
  },
  {
   "cell_type": "code",
   "execution_count": 6,
   "id": "98ee8ef4",
   "metadata": {},
   "outputs": [
    {
     "data": {
      "text/plain": [
       "(287,)"
      ]
     },
     "execution_count": 6,
     "metadata": {},
     "output_type": "execute_result"
    }
   ],
   "source": [
    "results=cur.execute(\"select sum(mrks) from students\")\n",
    "results.fetchone()"
   ]
  },
  {
   "cell_type": "code",
   "execution_count": 7,
   "id": "bccf5005",
   "metadata": {},
   "outputs": [
    {
     "data": {
      "text/plain": [
       "[(287,)]"
      ]
     },
     "execution_count": 7,
     "metadata": {},
     "output_type": "execute_result"
    }
   ],
   "source": [
    "results=cur.execute(\"select sum(mrks) from students\")\n",
    "results.fetchall()"
   ]
  },
  {
   "cell_type": "code",
   "execution_count": 8,
   "id": "d1c7d116",
   "metadata": {},
   "outputs": [],
   "source": [
    "results=cur.execute(\"select * from students where mrks is null\")\n",
    "results.fetchone()"
   ]
  },
  {
   "cell_type": "code",
   "execution_count": 10,
   "id": "08a1dec4",
   "metadata": {},
   "outputs": [
    {
     "data": {
      "text/plain": [
       "[(1, 'Ram', 59),\n",
       " (2, 'Shyam', 49),\n",
       " (3, 'Rohit', 69),\n",
       " (4, 'Jyoti', 56),\n",
       " (5, 'Yash', 54)]"
      ]
     },
     "execution_count": 10,
     "metadata": {},
     "output_type": "execute_result"
    }
   ],
   "source": [
    "results=cur.execute(\"select * from students where mrks is not null\")\n",
    "results.fetchall()"
   ]
  },
  {
   "cell_type": "code",
   "execution_count": null,
   "id": "183108ac",
   "metadata": {},
   "outputs": [],
   "source": []
  }
 ],
 "metadata": {
  "kernelspec": {
   "display_name": "Python 3 (ipykernel)",
   "language": "python",
   "name": "python3"
  },
  "language_info": {
   "codemirror_mode": {
    "name": "ipython",
    "version": 3
   },
   "file_extension": ".py",
   "mimetype": "text/x-python",
   "name": "python",
   "nbconvert_exporter": "python",
   "pygments_lexer": "ipython3",
   "version": "3.9.7"
  }
 },
 "nbformat": 4,
 "nbformat_minor": 5
}
