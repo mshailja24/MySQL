{
 "cells": [
  {
   "cell_type": "code",
   "execution_count": 8,
   "id": "2d9d795f",
   "metadata": {},
   "outputs": [
    {
     "name": "stdout",
     "output_type": "stream",
     "text": [
      "enter any number\n"
     ]
    }
   ],
   "source": [
    "print(\"enter any number\")"
   ]
  },
  {
   "cell_type": "code",
   "execution_count": 9,
   "id": "22560c39",
   "metadata": {},
   "outputs": [
    {
     "data": {
      "text/plain": [
       "int"
      ]
     },
     "execution_count": 9,
     "metadata": {},
     "output_type": "execute_result"
    }
   ],
   "source": [
    "v=25\n",
    "type(v)"
   ]
  },
  {
   "cell_type": "code",
   "execution_count": 10,
   "id": "953ba350",
   "metadata": {},
   "outputs": [
    {
     "data": {
      "text/plain": [
       "'25'"
      ]
     },
     "execution_count": 10,
     "metadata": {},
     "output_type": "execute_result"
    }
   ],
   "source": [
    "str(v)"
   ]
  },
  {
   "cell_type": "code",
   "execution_count": 11,
   "id": "2ada4b7b",
   "metadata": {},
   "outputs": [
    {
     "data": {
      "text/plain": [
       "25.0"
      ]
     },
     "execution_count": 11,
     "metadata": {},
     "output_type": "execute_result"
    }
   ],
   "source": [
    "float(v)"
   ]
  },
  {
   "cell_type": "code",
   "execution_count": 12,
   "id": "c97bc28d",
   "metadata": {},
   "outputs": [
    {
     "data": {
      "text/plain": [
       "'dadi52'"
      ]
     },
     "execution_count": 12,
     "metadata": {},
     "output_type": "execute_result"
    }
   ],
   "source": [
    "x='dadi'\n",
    "y=52\n",
    "x+str(y)\n"
   ]
  },
  {
   "cell_type": "code",
   "execution_count": 17,
   "id": "5ff27127",
   "metadata": {},
   "outputs": [
    {
     "name": "stdout",
     "output_type": "stream",
     "text": [
      "range(0, 10)\n"
     ]
    }
   ],
   "source": [
    "print(range(0,10))"
   ]
  },
  {
   "cell_type": "code",
   "execution_count": 1,
   "id": "e8824bd9",
   "metadata": {},
   "outputs": [],
   "source": [
    "import pandas as pd"
   ]
  },
  {
   "cell_type": "code",
   "execution_count": 3,
   "id": "976a5f91",
   "metadata": {},
   "outputs": [],
   "source": [
    "import numpy as np\n",
    "import matplotlib.pyplot as plt"
   ]
  },
  {
   "cell_type": "code",
   "execution_count": 8,
   "id": "9e7019cb",
   "metadata": {},
   "outputs": [
    {
     "name": "stdout",
     "output_type": "stream",
     "text": [
      "    Scheme\\tBatch ID\\tTP name\\tAA name\\tJob role\\tAssessment date\\tCandidate count\\tAttended\\tPassed \\tFailed\\tNot appeared\\tResult approved on\n",
      "0    SDIS-OSDA\\t1108\\tQuivan\\tVET\\tAsst. Plumber CO...                                                                                         \n",
      "1    SDIS-OSDA\\t213\\tQuivan\\tVET\\tAsst. Plumber CON...                                                                                         \n",
      "2    SDIS-OSDA\\t2037\\tASMACS\\tVET\\tAsst. Plumber CO...                                                                                         \n",
      "3    JSDM\\t430397\\tData Pro\\tCoCubes\\tPlumber Gener...                                                                                         \n",
      "4    NULM\\t431613\\tTS Skills\\tVET\\tPlumber General\\...                                                                                         \n",
      "..                                                 ...                                                                                         \n",
      "824  CSR-RPL (KBL)\\t2025783\\tData Pro\\tMettl\\tPlumb...                                                                                         \n",
      "825  CSR-RPL (KBL)\\t2028648\\tVeronics\\tExplore D\\tP...                                                                                         \n",
      "826  CSR-RPL (KBL)\\t2029466\\tVeronics\\tExplore D\\tP...                                                                                         \n",
      "827  CSR-RPL (KBL)\\t2028839\\tVeronics\\tExplore D\\tP...                                                                                         \n",
      "828  CSR-RPL (KBL)\\t2043225\\tLabournet\\tV.Saas\\tPlu...                                                                                         \n",
      "\n",
      "[829 rows x 1 columns]\n"
     ]
    },
    {
     "data": {
      "text/plain": [
       "Index(['Scheme\\tBatch ID\\tTP name\\tAA name\\tJob role\\tAssessment date\\tCandidate count\\tAttended\\tPassed \\tFailed\\tNot appeared\\tResult approved on'], dtype='object')"
      ]
     },
     "execution_count": 8,
     "metadata": {},
     "output_type": "execute_result"
    }
   ],
   "source": [
    "df=pd.read_csv(\"approved_batches.txt\")\n",
    "print(df)\n",
    "df.columns"
   ]
  },
  {
   "cell_type": "code",
   "execution_count": 9,
   "id": "fb1be511",
   "metadata": {},
   "outputs": [
    {
     "ename": "TypeError",
     "evalue": "hist() got multiple values for argument 'bins'",
     "output_type": "error",
     "traceback": [
      "\u001b[1;31m---------------------------------------------------------------------------\u001b[0m",
      "\u001b[1;31mTypeError\u001b[0m                                 Traceback (most recent call last)",
      "\u001b[1;32m~\\AppData\\Local\\Temp/ipykernel_15952/3121068660.py\u001b[0m in \u001b[0;36m<module>\u001b[1;34m\u001b[0m\n\u001b[1;32m----> 1\u001b[1;33m \u001b[0mplt\u001b[0m\u001b[1;33m.\u001b[0m\u001b[0mhist\u001b[0m\u001b[1;33m(\u001b[0m\u001b[0mdf\u001b[0m\u001b[1;33m,\u001b[0m\u001b[1;33m[\u001b[0m\u001b[1;34m'Scheme'\u001b[0m\u001b[1;33m]\u001b[0m\u001b[1;33m,\u001b[0m \u001b[0mbins\u001b[0m\u001b[1;33m=\u001b[0m\u001b[1;36m100\u001b[0m\u001b[1;33m)\u001b[0m\u001b[1;33m\u001b[0m\u001b[1;33m\u001b[0m\u001b[0m\n\u001b[0m\u001b[0;32m      2\u001b[0m \u001b[0mplt\u001b[0m\u001b[1;33m.\u001b[0m\u001b[0mtitle\u001b[0m\u001b[1;33m(\u001b[0m\u001b[1;34m'Assessment'\u001b[0m\u001b[1;33m)\u001b[0m\u001b[1;33m\u001b[0m\u001b[1;33m\u001b[0m\u001b[0m\n\u001b[0;32m      3\u001b[0m \u001b[0mplt\u001b[0m\u001b[1;33m.\u001b[0m\u001b[0mshow\u001b[0m\u001b[1;33m(\u001b[0m\u001b[1;33m)\u001b[0m\u001b[1;33m\u001b[0m\u001b[1;33m\u001b[0m\u001b[0m\n",
      "\u001b[1;31mTypeError\u001b[0m: hist() got multiple values for argument 'bins'"
     ]
    }
   ],
   "source": [
    "plt.hist(df,['Scheme'], bins=100)\n",
    "plt.title('Assessment')\n",
    "plt.show()"
   ]
  },
  {
   "cell_type": "code",
   "execution_count": null,
   "id": "f59501af",
   "metadata": {},
   "outputs": [],
   "source": []
  }
 ],
 "metadata": {
  "kernelspec": {
   "display_name": "Python 3 (ipykernel)",
   "language": "python",
   "name": "python3"
  },
  "language_info": {
   "codemirror_mode": {
    "name": "ipython",
    "version": 3
   },
   "file_extension": ".py",
   "mimetype": "text/x-python",
   "name": "python",
   "nbconvert_exporter": "python",
   "pygments_lexer": "ipython3",
   "version": "3.9.7"
  }
 },
 "nbformat": 4,
 "nbformat_minor": 5
}
